{
 "cells": [
  {
   "cell_type": "code",
   "execution_count": 1,
   "metadata": {},
   "outputs": [
    {
     "name": "stdout",
     "output_type": "stream",
     "text": [
      "Collecting tensorflow\n",
      "  Using cached https://files.pythonhosted.org/packages/5d/6a/9669836f813b73fe5abf5e9f118ccc9b7fb060f02789d385825b0943f9c8/tensorflow-2.3.1-cp37-cp37m-win_amd64.whl\n",
      "Collecting google-pasta>=0.1.8 (from tensorflow)\n",
      "  Downloading https://files.pythonhosted.org/packages/a3/de/c648ef6835192e6e2cc03f40b19eeda4382c49b5bafb43d88b931c4c74ac/google_pasta-0.2.0-py3-none-any.whl (57kB)\n",
      "Collecting h5py<2.11.0,>=2.10.0 (from tensorflow)\n",
      "  Downloading https://files.pythonhosted.org/packages/a1/6b/7f62017e3f0b32438dd90bdc1ff0b7b1448b6cb04a1ed84f37b6de95cd7b/h5py-2.10.0-cp37-cp37m-win_amd64.whl (2.5MB)\n",
      "Requirement already satisfied: wheel>=0.26 in c:\\users\\nourd\\anaconda3\\lib\\site-packages (from tensorflow) (0.33.4)\n",
      "Requirement already satisfied: numpy<1.19.0,>=1.16.0 in c:\\users\\nourd\\anaconda3\\lib\\site-packages (from tensorflow) (1.16.4)\n",
      "Requirement already satisfied: six>=1.12.0 in c:\\users\\nourd\\appdata\\roaming\\python\\python37\\site-packages (from tensorflow) (1.13.0)\n",
      "Collecting grpcio>=1.8.6 (from tensorflow)\n",
      "  Downloading https://files.pythonhosted.org/packages/ed/f4/36f90a2091ff9807fc5c85763ffdc717e81deb771acf30173f774711d5db/grpcio-1.33.2-cp37-cp37m-win_amd64.whl (2.5MB)\n",
      "Collecting keras-preprocessing<1.2,>=1.1.1 (from tensorflow)\n",
      "  Downloading https://files.pythonhosted.org/packages/79/4c/7c3275a01e12ef9368a892926ab932b33bb13d55794881e3573482b378a7/Keras_Preprocessing-1.1.2-py2.py3-none-any.whl (42kB)\n",
      "Collecting gast==0.3.3 (from tensorflow)\n",
      "  Downloading https://files.pythonhosted.org/packages/d6/84/759f5dd23fec8ba71952d97bcc7e2c9d7d63bdc582421f3cd4be845f0c98/gast-0.3.3-py2.py3-none-any.whl\n",
      "Collecting protobuf>=3.9.2 (from tensorflow)\n",
      "  Downloading https://files.pythonhosted.org/packages/1d/f4/089025cfa3ee62f89cae73f4d36daf46f339c6df61becfe4b24f3aeb3c0d/protobuf-3.14.0-cp37-cp37m-win_amd64.whl (798kB)\n",
      "Collecting opt-einsum>=2.3.2 (from tensorflow)\n",
      "  Downloading https://files.pythonhosted.org/packages/bc/19/404708a7e54ad2798907210462fd950c3442ea51acc8790f3da48d2bee8b/opt_einsum-3.3.0-py3-none-any.whl (65kB)\n",
      "Collecting astunparse==1.6.3 (from tensorflow)\n",
      "  Downloading https://files.pythonhosted.org/packages/2b/03/13dde6512ad7b4557eb792fbcf0c653af6076b81e5941d36ec61f7ce6028/astunparse-1.6.3-py2.py3-none-any.whl\n",
      "Collecting tensorboard<3,>=2.3.0 (from tensorflow)\n",
      "  Downloading https://files.pythonhosted.org/packages/02/83/179c8f76e5716030cc3ee9433721161cfcc1d854e9ba20c9205180bb100a/tensorboard-2.4.0-py3-none-any.whl (10.6MB)\n",
      "Collecting absl-py>=0.7.0 (from tensorflow)\n",
      "  Downloading https://files.pythonhosted.org/packages/bc/58/0aa6fb779dc69cfc811df3398fcbeaeefbf18561b6e36b185df0782781cc/absl_py-0.11.0-py3-none-any.whl (127kB)\n",
      "Collecting tensorflow-estimator<2.4.0,>=2.3.0 (from tensorflow)\n",
      "  Downloading https://files.pythonhosted.org/packages/e9/ed/5853ec0ae380cba4588eab1524e18ece1583b65f7ae0e97321f5ff9dfd60/tensorflow_estimator-2.3.0-py2.py3-none-any.whl (459kB)\n",
      "Collecting termcolor>=1.1.0 (from tensorflow)\n",
      "  Downloading https://files.pythonhosted.org/packages/8a/48/a76be51647d0eb9f10e2a4511bf3ffb8cc1e6b14e9e4fab46173aa79f981/termcolor-1.1.0.tar.gz\n",
      "Requirement already satisfied: wrapt>=1.11.1 in c:\\users\\nourd\\appdata\\roaming\\python\\python37\\site-packages (from tensorflow) (1.11.2)\n",
      "Collecting tensorboard-plugin-wit>=1.6.0 (from tensorboard<3,>=2.3.0->tensorflow)\n",
      "  Downloading https://files.pythonhosted.org/packages/b6/85/5c5ac0a8c5efdfab916e9c6bc18963f6a6996a8a1e19ec4ad8c9ac9c623c/tensorboard_plugin_wit-1.7.0-py3-none-any.whl (779kB)\n",
      "Collecting google-auth<2,>=1.6.3 (from tensorboard<3,>=2.3.0->tensorflow)\n",
      "  Downloading https://files.pythonhosted.org/packages/1d/60/81e68e70eea91ef05bb00bcdac243d67b61f826c65aaca6961de622dffd7/google_auth-1.23.0-py2.py3-none-any.whl (114kB)\n",
      "Collecting markdown>=2.6.8 (from tensorboard<3,>=2.3.0->tensorflow)\n",
      "  Downloading https://files.pythonhosted.org/packages/ac/ef/24a91ca96efa0d7802dffb83ccc7a3c677027bea19ec3c9ee80be740408e/Markdown-3.3.3-py3-none-any.whl (96kB)\n",
      "Requirement already satisfied: werkzeug>=0.11.15 in c:\\users\\nourd\\anaconda3\\lib\\site-packages (from tensorboard<3,>=2.3.0->tensorflow) (0.15.4)\n",
      "Requirement already satisfied: requests<3,>=2.21.0 in c:\\users\\nourd\\anaconda3\\lib\\site-packages (from tensorboard<3,>=2.3.0->tensorflow) (2.24.0)\n",
      "Collecting google-auth-oauthlib<0.5,>=0.4.1 (from tensorboard<3,>=2.3.0->tensorflow)\n",
      "  Downloading https://files.pythonhosted.org/packages/81/67/e2c34bb0628984c7ce71cce6ba6964cb29c418873847fc285f826e032e6e/google_auth_oauthlib-0.4.2-py2.py3-none-any.whl\n",
      "Requirement already satisfied: setuptools>=41.0.0 in c:\\users\\nourd\\anaconda3\\lib\\site-packages (from tensorboard<3,>=2.3.0->tensorflow) (41.0.1)\n",
      "Collecting cachetools<5.0,>=2.0.0 (from google-auth<2,>=1.6.3->tensorboard<3,>=2.3.0->tensorflow)\n",
      "  Downloading https://files.pythonhosted.org/packages/cd/5c/f3aa86b6d5482f3051b433c7616668a9b96fbe49a622210e2c9781938a5c/cachetools-4.1.1-py3-none-any.whl\n",
      "Collecting pyasn1-modules>=0.2.1 (from google-auth<2,>=1.6.3->tensorboard<3,>=2.3.0->tensorflow)\n",
      "  Downloading https://files.pythonhosted.org/packages/95/de/214830a981892a3e286c3794f41ae67a4495df1108c3da8a9f62159b9a9d/pyasn1_modules-0.2.8-py2.py3-none-any.whl (155kB)\n",
      "Collecting rsa<5,>=3.1.4; python_version >= \"3.5\" (from google-auth<2,>=1.6.3->tensorboard<3,>=2.3.0->tensorflow)\n",
      "  Downloading https://files.pythonhosted.org/packages/1c/df/c3587a667d6b308fadc90b99e8bc8774788d033efcc70f4ecaae7fad144b/rsa-4.6-py3-none-any.whl (47kB)\n",
      "Requirement already satisfied: importlib-metadata; python_version < \"3.8\" in c:\\users\\nourd\\anaconda3\\lib\\site-packages (from markdown>=2.6.8->tensorboard<3,>=2.3.0->tensorflow) (0.17)\n",
      "Requirement already satisfied: certifi>=2017.4.17 in c:\\users\\nourd\\anaconda3\\lib\\site-packages (from requests<3,>=2.21.0->tensorboard<3,>=2.3.0->tensorflow) (2019.6.16)\n",
      "Requirement already satisfied: urllib3!=1.25.0,!=1.25.1,<1.26,>=1.21.1 in c:\\users\\nourd\\anaconda3\\lib\\site-packages (from requests<3,>=2.21.0->tensorboard<3,>=2.3.0->tensorflow) (1.24.2)\n",
      "Requirement already satisfied: chardet<4,>=3.0.2 in c:\\users\\nourd\\anaconda3\\lib\\site-packages (from requests<3,>=2.21.0->tensorboard<3,>=2.3.0->tensorflow) (3.0.4)\n",
      "Requirement already satisfied: idna<3,>=2.5 in c:\\users\\nourd\\anaconda3\\lib\\site-packages (from requests<3,>=2.21.0->tensorboard<3,>=2.3.0->tensorflow) (2.8)\n",
      "Collecting requests-oauthlib>=0.7.0 (from google-auth-oauthlib<0.5,>=0.4.1->tensorboard<3,>=2.3.0->tensorflow)\n",
      "  Downloading https://files.pythonhosted.org/packages/a3/12/b92740d845ab62ea4edf04d2f4164d82532b5a0b03836d4d4e71c6f3d379/requests_oauthlib-1.3.0-py2.py3-none-any.whl\n",
      "Collecting pyasn1<0.5.0,>=0.4.6 (from pyasn1-modules>=0.2.1->google-auth<2,>=1.6.3->tensorboard<3,>=2.3.0->tensorflow)\n",
      "  Downloading https://files.pythonhosted.org/packages/62/1e/a94a8d635fa3ce4cfc7f506003548d0a2447ae76fd5ca53932970fe3053f/pyasn1-0.4.8-py2.py3-none-any.whl (77kB)\n",
      "Requirement already satisfied: zipp>=0.5 in c:\\users\\nourd\\anaconda3\\lib\\site-packages (from importlib-metadata; python_version < \"3.8\"->markdown>=2.6.8->tensorboard<3,>=2.3.0->tensorflow) (0.5.1)\n",
      "Collecting oauthlib>=3.0.0 (from requests-oauthlib>=0.7.0->google-auth-oauthlib<0.5,>=0.4.1->tensorboard<3,>=2.3.0->tensorflow)\n",
      "  Downloading https://files.pythonhosted.org/packages/05/57/ce2e7a8fa7c0afb54a0581b14a65b56e62b5759dbc98e80627142b8a3704/oauthlib-3.1.0-py2.py3-none-any.whl (147kB)\n",
      "Building wheels for collected packages: termcolor\n",
      "  Building wheel for termcolor (setup.py): started\n",
      "  Building wheel for termcolor (setup.py): finished with status 'done'\n",
      "  Stored in directory: C:\\Users\\nourd\\AppData\\Local\\pip\\Cache\\wheels\\7c\\06\\54\\bc84598ba1daf8f970247f550b175aaaee85f68b4b0c5ab2c6\n",
      "Successfully built termcolor\n",
      "Installing collected packages: google-pasta, h5py, grpcio, keras-preprocessing, gast, protobuf, opt-einsum, astunparse, absl-py, tensorboard-plugin-wit, cachetools, pyasn1, pyasn1-modules, rsa, google-auth, markdown, oauthlib, requests-oauthlib, google-auth-oauthlib, tensorboard, tensorflow-estimator, termcolor, tensorflow\n",
      "  Found existing installation: h5py 2.9.0\n",
      "    Uninstalling h5py-2.9.0:\n",
      "      Successfully uninstalled h5py-2.9.0\n",
      "Successfully installed absl-py-0.11.0 astunparse-1.6.3 cachetools-4.1.1 gast-0.3.3 google-auth-1.23.0 google-auth-oauthlib-0.4.2 google-pasta-0.2.0 grpcio-1.33.2 h5py-2.10.0 keras-preprocessing-1.1.2 markdown-3.3.3 oauthlib-3.1.0 opt-einsum-3.3.0 protobuf-3.14.0 pyasn1-0.4.8 pyasn1-modules-0.2.8 requests-oauthlib-1.3.0 rsa-4.6 tensorboard-2.4.0 tensorboard-plugin-wit-1.7.0 tensorflow-2.3.1 tensorflow-estimator-2.3.0 termcolor-1.1.0\n"
     ]
    }
   ],
   "source": [
    "import sys\n",
    "!{sys.executable} -m pip install tensorflow"
   ]
  },
  {
   "cell_type": "code",
   "execution_count": 1,
   "metadata": {},
   "outputs": [],
   "source": [
    "# TensorFlow ≥2.0 is required\n",
    "import tensorflow as tf\n",
    "\n",
    "# Common imports\n",
    "import numpy as np\n",
    "import os\n",
    "\n",
    "# to make this notebook's output stable across runs\n",
    "np.random.seed(42)\n",
    "\n",
    "# To plot pretty figures\n",
    "%matplotlib inline\n",
    "import matplotlib as mpl\n",
    "import matplotlib.pyplot as plt\n",
    "mpl.rc('axes', labelsize=14)\n",
    "mpl.rc('xtick', labelsize=12)\n",
    "mpl.rc('ytick', labelsize=12)\n",
    "\n",
    "# Ignore useless warnings (see SciPy issue #5998)\n",
    "import warnings\n",
    "warnings.filterwarnings(action=\"ignore\", message=\"^internal gelsd\")"
   ]
  },
  {
   "cell_type": "code",
   "execution_count": 2,
   "metadata": {},
   "outputs": [],
   "source": [
    "import tensorflow as tf\n",
    "from tensorflow import keras"
   ]
  },
  {
   "cell_type": "code",
   "execution_count": 3,
   "metadata": {},
   "outputs": [
    {
     "data": {
      "text/plain": [
       "'2.3.1'"
      ]
     },
     "execution_count": 3,
     "metadata": {},
     "output_type": "execute_result"
    }
   ],
   "source": [
    "tf.__version__"
   ]
  },
  {
   "cell_type": "code",
   "execution_count": 4,
   "metadata": {},
   "outputs": [],
   "source": [
    "fashion_mnist = keras.datasets.fashion_mnist\n",
    "(X_train_full, y_train_full), (X_test, y_test) = fashion_mnist.load_data()"
   ]
  },
  {
   "cell_type": "code",
   "execution_count": 5,
   "metadata": {},
   "outputs": [
    {
     "data": {
      "text/plain": [
       "(60000, 28, 28)"
      ]
     },
     "execution_count": 5,
     "metadata": {},
     "output_type": "execute_result"
    }
   ],
   "source": [
    "X_train_full.shape"
   ]
  },
  {
   "cell_type": "code",
   "execution_count": 6,
   "metadata": {},
   "outputs": [
    {
     "data": {
      "text/plain": [
       "dtype('uint8')"
      ]
     },
     "execution_count": 6,
     "metadata": {},
     "output_type": "execute_result"
    }
   ],
   "source": [
    "X_train_full.dtype"
   ]
  },
  {
   "cell_type": "code",
   "execution_count": 7,
   "metadata": {},
   "outputs": [],
   "source": [
    "X_valid, X_train = X_train_full[:5000] / 255., X_train_full[5000:] / 255.\n",
    "y_valid, y_train = y_train_full[:5000], y_train_full[5000:]\n",
    "X_test = X_test / 255."
   ]
  },
  {
   "cell_type": "code",
   "execution_count": 8,
   "metadata": {},
   "outputs": [
    {
     "data": {
      "image/png": "[encoded data removed]",
      "text/plain": [
       "<Figure size 432x288 with 1 Axes>"
      ]
     },
     "metadata": {
      "needs_background": "light"
     },
     "output_type": "display_data"
    }
   ],
   "source": [
    "plt.imshow(X_train[0], cmap=\"binary\")\n",
    "plt.axis('off')\n",
    "plt.show()"
   ]
  },
  {
   "cell_type": "code",
   "execution_count": 9,
   "metadata": {},
   "outputs": [
    {
     "data": {
      "text/plain": [
       "array([4, 0, 7, ..., 3, 0, 5], dtype=uint8)"
      ]
     },
     "execution_count": 9,
     "metadata": {},
     "output_type": "execute_result"
    }
   ],
   "source": [
    "y_train"
   ]
  },
  {
   "cell_type": "code",
   "execution_count": 10,
   "metadata": {},
   "outputs": [],
   "source": [
    "class_names = [\"T-shirt/top\", \"Trouser\", \"Pullover\", \"Dress\", \"Coat\",\n",
    "               \"Sandal\", \"Shirt\", \"Sneaker\", \"Bag\", \"Ankle boot\"]"
   ]
  },
  {
   "cell_type": "code",
   "execution_count": 11,
   "metadata": {},
   "outputs": [
    {
     "data": {
      "text/plain": [
       "'Coat'"
      ]
     },
     "execution_count": 11,
     "metadata": {},
     "output_type": "execute_result"
    }
   ],
   "source": [
    "class_names[y_train[0]]"
   ]
  },
  {
   "cell_type": "code",
   "execution_count": 12,
   "metadata": {},
   "outputs": [
    {
     "data": {
      "text/plain": [
       "(5000, 28, 28)"
      ]
     },
     "execution_count": 12,
     "metadata": {},
     "output_type": "execute_result"
    }
   ],
   "source": [
    "\n",
    "X_valid.shape"
   ]
  },
  {
   "cell_type": "code",
   "execution_count": 13,
   "metadata": {},
   "outputs": [
    {
     "data": {
      "text/plain": [
       "(10000, 28, 28)"
      ]
     },
     "execution_count": 13,
     "metadata": {},
     "output_type": "execute_result"
    }
   ],
   "source": [
    "X_test.shape"
   ]
  },
  {
   "cell_type": "code",
   "execution_count": 14,
   "metadata": {},
   "outputs": [
    {
     "data": {
      "image/png": "[encoded data removed]",
      "text/plain": [
       "<Figure size 864x345.6 with 40 Axes>"
      ]
     },
     "metadata": {
      "needs_background": "light"
     },
     "output_type": "display_data"
    }
   ],
   "source": [
    "n_rows = 4\n",
    "n_cols = 10\n",
    "plt.figure(figsize=(n_cols * 1.2, n_rows * 1.2))\n",
    "for row in range(n_rows):\n",
    "    for col in range(n_cols):\n",
    "        index = n_cols * row + col\n",
    "        plt.subplot(n_rows, n_cols, index + 1)\n",
    "        plt.imshow(X_train[index], cmap=\"binary\", interpolation=\"nearest\")\n",
    "        plt.axis('off')\n",
    "        plt.title(class_names[y_train[index]], fontsize=12)\n",
    "plt.subplots_adjust(wspace=0.2, hspace=0.5)\n",
    "plt.show()"
   ]
  },
  {
   "cell_type": "code",
   "execution_count": 25,
   "metadata": {},
   "outputs": [],
   "source": [
    "model = keras.models.Sequential([\n",
    "    keras.layers.Flatten(input_shape=[28, 28]),\n",
    "    keras.layers.Dense(300, activation=\"relu\"),\n",
    "    keras.layers.Dense(100, activation=\"relu\"),\n",
    "    keras.layers.Dense(10, activation=\"softmax\")\n",
    "])"
   ]
  },
  {
   "cell_type": "code",
   "execution_count": 26,
   "metadata": {},
   "outputs": [
    {
     "data": {
      "text/plain": [
       "[<tensorflow.python.keras.layers.core.Flatten at 0x238edf10710>,\n",
       " <tensorflow.python.keras.layers.core.Dense at 0x238d2e648d0>,\n",
       " <tensorflow.python.keras.layers.core.Dense at 0x238eddaeac8>,\n",
       " <tensorflow.python.keras.layers.core.Dense at 0x238edf7c208>]"
      ]
     },
     "execution_count": 26,
     "metadata": {},
     "output_type": "execute_result"
    }
   ],
   "source": [
    "model.layers"
   ]
  },
  {
   "cell_type": "code",
   "execution_count": 27,
   "metadata": {},
   "outputs": [
    {
     "name": "stdout",
     "output_type": "stream",
     "text": [
      "Model: \"sequential_1\"\n",
      "_________________________________________________________________\n",
      "Layer (type)                 Output Shape              Param #   \n",
      "=================================================================\n",
      "flatten_1 (Flatten)          (None, 784)               0         \n",
      "_________________________________________________________________\n",
      "dense_3 (Dense)              (None, 300)               235500    \n",
      "_________________________________________________________________\n",
      "dense_4 (Dense)              (None, 100)               30100     \n",
      "_________________________________________________________________\n",
      "dense_5 (Dense)              (None, 10)                1010      \n",
      "=================================================================\n",
      "Total params: 266,610\n",
      "Trainable params: 266,610\n",
      "Non-trainable params: 0\n",
      "_________________________________________________________________\n"
     ]
    }
   ],
   "source": [
    "model.summary()"
   ]
  },
  {
   "cell_type": "code",
   "execution_count": 28,
   "metadata": {},
   "outputs": [
    {
     "name": "stdout",
     "output_type": "stream",
     "text": [
      "('Failed to import pydot. You must `pip install pydot` and install graphviz (https://graphviz.gitlab.io/download/), ', 'for `pydotprint` to work.')\n"
     ]
    }
   ],
   "source": [
    "keras.utils.plot_model(model, \"my_mnist_model.png\", show_shapes=True)"
   ]
  },
  {
   "cell_type": "code",
   "execution_count": 29,
   "metadata": {},
   "outputs": [
    {
     "data": {
      "text/plain": [
       "'dense_3'"
      ]
     },
     "execution_count": 29,
     "metadata": {},
     "output_type": "execute_result"
    }
   ],
   "source": [
    "hidden1 = model.layers[1]\n",
    "hidden1.name"
   ]
  },
  {
   "cell_type": "code",
   "execution_count": 30,
   "metadata": {},
   "outputs": [
    {
     "data": {
      "text/plain": [
       "True"
      ]
     },
     "execution_count": 30,
     "metadata": {},
     "output_type": "execute_result"
    }
   ],
   "source": [
    "model.get_layer(hidden1.name) is hidden1"
   ]
  },
  {
   "cell_type": "code",
   "execution_count": 31,
   "metadata": {},
   "outputs": [],
   "source": [
    "weights, biases = hidden1.get_weights()"
   ]
  },
  {
   "cell_type": "code",
   "execution_count": 32,
   "metadata": {},
   "outputs": [
    {
     "data": {
      "text/plain": [
       "array([[-0.05458051,  0.05825566,  0.04819103, ..., -0.04447811,\n",
       "        -0.05187762,  0.05559249],\n",
       "       [-0.03426343,  0.0423049 ,  0.05356167, ..., -0.02486161,\n",
       "        -0.02104357, -0.05693725],\n",
       "       [ 0.00350766, -0.06193115,  0.03776066, ..., -0.04923638,\n",
       "         0.02827583, -0.06457638],\n",
       "       ...,\n",
       "       [ 0.00950919,  0.02543129,  0.06835546, ..., -0.0488802 ,\n",
       "        -0.06557009, -0.06326349],\n",
       "       [ 0.04185351,  0.0561509 ,  0.03213718, ...,  0.03664689,\n",
       "        -0.00506864, -0.06944934],\n",
       "       [-0.04761598,  0.07246175,  0.06989054, ..., -0.0077239 ,\n",
       "        -0.00551896, -0.00664559]], dtype=float32)"
      ]
     },
     "execution_count": 32,
     "metadata": {},
     "output_type": "execute_result"
    }
   ],
   "source": [
    "weights"
   ]
  },
  {
   "cell_type": "code",
   "execution_count": 33,
   "metadata": {},
   "outputs": [
    {
     "data": {
      "text/plain": [
       "(784, 300)"
      ]
     },
     "execution_count": 33,
     "metadata": {},
     "output_type": "execute_result"
    }
   ],
   "source": [
    "weights.shape"
   ]
  },
  {
   "cell_type": "code",
   "execution_count": 34,
   "metadata": {},
   "outputs": [
    {
     "data": {
      "text/plain": [
       "(300,)"
      ]
     },
     "execution_count": 34,
     "metadata": {},
     "output_type": "execute_result"
    }
   ],
   "source": [
    "\n",
    "biases.shape"
   ]
  },
  {
   "cell_type": "code",
   "execution_count": 35,
   "metadata": {},
   "outputs": [],
   "source": [
    "model.compile(loss=\"sparse_categorical_crossentropy\",\n",
    "              optimizer=\"sgd\",\n",
    "              metrics=[\"accuracy\"])"
   ]
  },
  {
   "cell_type": "code",
   "execution_count": 36,
   "metadata": {},
   "outputs": [
    {
     "name": "stdout",
     "output_type": "stream",
     "text": [
      "Epoch 1/30\n",
      "1719/1719 [==============================] - 25s 15ms/step - loss: 0.7263 - accuracy: 0.7623 - val_loss: 0.5304 - val_accuracy: 0.8194\n",
      "Epoch 2/30\n",
      "1719/1719 [==============================] - 17s 10ms/step - loss: 0.4889 - accuracy: 0.8303 - val_loss: 0.4411 - val_accuracy: 0.8504\n",
      "Epoch 3/30\n",
      "1719/1719 [==============================] - 19s 11ms/step - loss: 0.4452 - accuracy: 0.8442 - val_loss: 0.4069 - val_accuracy: 0.8628\n",
      "Epoch 4/30\n",
      "1719/1719 [==============================] - 19s 11ms/step - loss: 0.4178 - accuracy: 0.8534 - val_loss: 0.4050 - val_accuracy: 0.8636\n",
      "Epoch 5/30\n",
      "1719/1719 [==============================] - 15s 9ms/step - loss: 0.3976 - accuracy: 0.8592 - val_loss: 0.3898 - val_accuracy: 0.8674\n",
      "Epoch 6/30\n",
      "1719/1719 [==============================] - 14s 8ms/step - loss: 0.3807 - accuracy: 0.8654 - val_loss: 0.3696 - val_accuracy: 0.8708\n",
      "Epoch 7/30\n",
      "1719/1719 [==============================] - 19s 11ms/step - loss: 0.3669 - accuracy: 0.8696 - val_loss: 0.3771 - val_accuracy: 0.8652\n",
      "Epoch 8/30\n",
      "1719/1719 [==============================] - 19s 11ms/step - loss: 0.3563 - accuracy: 0.8728 - val_loss: 0.3521 - val_accuracy: 0.8748\n",
      "Epoch 9/30\n",
      "1719/1719 [==============================] - 20s 12ms/step - loss: 0.3465 - accuracy: 0.8759 - val_loss: 0.3615 - val_accuracy: 0.8750\n",
      "Epoch 10/30\n",
      "1719/1719 [==============================] - 18s 11ms/step - loss: 0.3367 - accuracy: 0.8802 - val_loss: 0.3460 - val_accuracy: 0.8788\n",
      "Epoch 11/30\n",
      "1719/1719 [==============================] - 19s 11ms/step - loss: 0.3284 - accuracy: 0.8830 - val_loss: 0.3597 - val_accuracy: 0.8714\n",
      "Epoch 12/30\n",
      "1719/1719 [==============================] - 21s 12ms/step - loss: 0.3205 - accuracy: 0.8843 - val_loss: 0.3360 - val_accuracy: 0.8802\n",
      "Epoch 13/30\n",
      "1719/1719 [==============================] - 17s 10ms/step - loss: 0.3133 - accuracy: 0.8880 - val_loss: 0.3327 - val_accuracy: 0.8836\n",
      "Epoch 14/30\n",
      "1719/1719 [==============================] - 18s 10ms/step - loss: 0.3068 - accuracy: 0.8904 - val_loss: 0.3323 - val_accuracy: 0.8796\n",
      "Epoch 15/30\n",
      "1719/1719 [==============================] - 20s 12ms/step - loss: 0.3000 - accuracy: 0.8926 - val_loss: 0.3307 - val_accuracy: 0.8756\n",
      "Epoch 16/30\n",
      "1719/1719 [==============================] - 19s 11ms/step - loss: 0.2937 - accuracy: 0.8956 - val_loss: 0.3214 - val_accuracy: 0.8844\n",
      "Epoch 17/30\n",
      "1719/1719 [==============================] - 20s 12ms/step - loss: 0.2886 - accuracy: 0.8961 - val_loss: 0.3281 - val_accuracy: 0.8782\n",
      "Epoch 18/30\n",
      "1719/1719 [==============================] - 22s 13ms/step - loss: 0.2832 - accuracy: 0.8973 - val_loss: 0.3197 - val_accuracy: 0.8838\n",
      "Epoch 19/30\n",
      "1719/1719 [==============================] - 19s 11ms/step - loss: 0.2779 - accuracy: 0.9004 - val_loss: 0.3124 - val_accuracy: 0.8860\n",
      "Epoch 20/30\n",
      "1719/1719 [==============================] - 21s 12ms/step - loss: 0.2723 - accuracy: 0.9019 - val_loss: 0.3120 - val_accuracy: 0.8890\n",
      "Epoch 21/30\n",
      "1719/1719 [==============================] - 18s 10ms/step - loss: 0.2669 - accuracy: 0.9040 - val_loss: 0.3071 - val_accuracy: 0.8868\n",
      "Epoch 22/30\n",
      "1719/1719 [==============================] - 20s 12ms/step - loss: 0.2626 - accuracy: 0.9053 - val_loss: 0.2998 - val_accuracy: 0.8902\n",
      "Epoch 23/30\n",
      "1719/1719 [==============================] - 20s 12ms/step - loss: 0.2572 - accuracy: 0.9080 - val_loss: 0.3011 - val_accuracy: 0.8904\n",
      "Epoch 24/30\n",
      "1719/1719 [==============================] - 21s 12ms/step - loss: 0.2529 - accuracy: 0.9097 - val_loss: 0.3086 - val_accuracy: 0.8882\n",
      "Epoch 25/30\n",
      "1719/1719 [==============================] - 22s 13ms/step - loss: 0.2488 - accuracy: 0.9103 - val_loss: 0.2973 - val_accuracy: 0.8914\n",
      "Epoch 26/30\n",
      "1719/1719 [==============================] - 21s 12ms/step - loss: 0.2446 - accuracy: 0.9115 - val_loss: 0.3052 - val_accuracy: 0.8892\n",
      "Epoch 27/30\n",
      "1719/1719 [==============================] - 18s 10ms/step - loss: 0.2417 - accuracy: 0.9140 - val_loss: 0.3004 - val_accuracy: 0.8918\n",
      "Epoch 28/30\n",
      "1719/1719 [==============================] - 18s 11ms/step - loss: 0.2368 - accuracy: 0.9139 - val_loss: 0.3110 - val_accuracy: 0.8868\n",
      "Epoch 29/30\n",
      "1719/1719 [==============================] - 21s 12ms/step - loss: 0.2323 - accuracy: 0.9171 - val_loss: 0.2973 - val_accuracy: 0.8912\n",
      "Epoch 30/30\n",
      "1719/1719 [==============================] - 22s 13ms/step - loss: 0.2302 - accuracy: 0.9168 - val_loss: 0.3039 - val_accuracy: 0.8896\n"
     ]
    }
   ],
   "source": [
    "history = model.fit(X_train, y_train, batch_size=32, epochs=30,\n",
    "                    validation_data=(X_valid, y_valid))"
   ]
  },
  {
   "cell_type": "code",
   "execution_count": 37,
   "metadata": {},
   "outputs": [
    {
     "data": {
      "text/plain": [
       "{'verbose': 1, 'epochs': 30, 'steps': 1719}"
      ]
     },
     "execution_count": 37,
     "metadata": {},
     "output_type": "execute_result"
    }
   ],
   "source": [
    "history.params"
   ]
  },
  {
   "cell_type": "code",
   "execution_count": 38,
   "metadata": {},
   "outputs": [
    {
     "name": "stdout",
     "output_type": "stream",
     "text": [
      "[0, 1, 2, 3, 4, 5, 6, 7, 8, 9, 10, 11, 12, 13, 14, 15, 16, 17, 18, 19, 20, 21, 22, 23, 24, 25, 26, 27, 28, 29]\n"
     ]
    }
   ],
   "source": [
    "print(history.epoch)"
   ]
  },
  {
   "cell_type": "code",
   "execution_count": 39,
   "metadata": {},
   "outputs": [
    {
     "data": {
      "text/plain": [
       "dict_keys(['loss', 'accuracy', 'val_loss', 'val_accuracy'])"
      ]
     },
     "execution_count": 39,
     "metadata": {},
     "output_type": "execute_result"
    }
   ],
   "source": [
    "history.history.keys()"
   ]
  },
  {
   "cell_type": "code",
   "execution_count": 40,
   "metadata": {},
   "outputs": [
    {
     "data": {
      "image/png": "[encoded data removed]",
      "text/plain": [
       "<Figure size 576x360 with 1 Axes>"
      ]
     },
     "metadata": {
      "needs_background": "light"
     },
     "output_type": "display_data"
    }
   ],
   "source": [
    "import pandas as pd\n",
    "\n",
    "pd.DataFrame(history.history).plot(figsize=(8, 5))\n",
    "plt.grid(True)\n",
    "plt.gca().set_ylim(0, 1)\n",
    "plt.show()"
   ]
  },
  {
   "cell_type": "code",
   "execution_count": 41,
   "metadata": {},
   "outputs": [
    {
     "name": "stdout",
     "output_type": "stream",
     "text": [
      "313/313 [==============================] - 1s 3ms/step - loss: 0.3365 - accuracy: 0.8794\n"
     ]
    },
    {
     "data": {
      "text/plain": [
       "[0.33646029233932495, 0.8794000148773193]"
      ]
     },
     "execution_count": 41,
     "metadata": {},
     "output_type": "execute_result"
    }
   ],
   "source": [
    "model.evaluate(X_test, y_test)"
   ]
  },
  {
   "cell_type": "code",
   "execution_count": 42,
   "metadata": {},
   "outputs": [
    {
     "data": {
      "text/plain": [
       "array([[0.  , 0.  , 0.  , 0.  , 0.  , 0.01, 0.  , 0.01, 0.  , 0.99],\n",
       "       [0.  , 0.  , 1.  , 0.  , 0.  , 0.  , 0.  , 0.  , 0.  , 0.  ],\n",
       "       [0.  , 1.  , 0.  , 0.  , 0.  , 0.  , 0.  , 0.  , 0.  , 0.  ]],\n",
       "      dtype=float32)"
      ]
     },
     "execution_count": 42,
     "metadata": {},
     "output_type": "execute_result"
    }
   ],
   "source": [
    "X_new = X_test[:3]\n",
    "y_proba = model.predict(X_new)\n",
    "y_proba.round(2)"
   ]
  },
  {
   "cell_type": "code",
   "execution_count": 43,
   "metadata": {},
   "outputs": [
    {
     "name": "stdout",
     "output_type": "stream",
     "text": [
      "WARNING:tensorflow:From <ipython-input-43-81ace37e545f>:1: Sequential.predict_classes (from tensorflow.python.keras.engine.sequential) is deprecated and will be removed after 2021-01-01.\n",
      "Instructions for updating:\n",
      "Please use instead:* `np.argmax(model.predict(x), axis=-1)`,   if your model does multi-class classification   (e.g. if it uses a `softmax` last-layer activation).* `(model.predict(x) > 0.5).astype(\"int32\")`,   if your model does binary classification   (e.g. if it uses a `sigmoid` last-layer activation).\n"
     ]
    },
    {
     "data": {
      "text/plain": [
       "array([9, 2, 1], dtype=int64)"
      ]
     },
     "execution_count": 43,
     "metadata": {},
     "output_type": "execute_result"
    }
   ],
   "source": [
    "y_pred = model.predict_classes(X_new)\n",
    "y_pred"
   ]
  },
  {
   "cell_type": "code",
   "execution_count": 44,
   "metadata": {},
   "outputs": [
    {
     "data": {
      "text/plain": [
       "array(['Ankle boot', 'Pullover', 'Trouser'], dtype='<U11')"
      ]
     },
     "execution_count": 44,
     "metadata": {},
     "output_type": "execute_result"
    }
   ],
   "source": [
    "\n",
    "np.array(class_names)[y_pred]"
   ]
  },
  {
   "cell_type": "code",
   "execution_count": 45,
   "metadata": {},
   "outputs": [
    {
     "data": {
      "text/plain": [
       "array([9, 2, 1], dtype=uint8)"
      ]
     },
     "execution_count": 45,
     "metadata": {},
     "output_type": "execute_result"
    }
   ],
   "source": [
    "y_new = y_test[:3]\n",
    "y_new"
   ]
  },
  {
   "cell_type": "code",
   "execution_count": 49,
   "metadata": {},
   "outputs": [
    {
     "data": {
      "image/png": "[encoded data removed]",
      "text/plain": [
       "<Figure size 518.4x172.8 with 3 Axes>"
      ]
     },
     "metadata": {
      "needs_background": "light"
     },
     "output_type": "display_data"
    }
   ],
   "source": [
    "plt.figure(figsize=(7.2, 2.4))\n",
    "for index, image in enumerate(X_new):\n",
    "    plt.subplot(1, 3, index + 1)\n",
    "    plt.imshow(image, cmap=\"binary\", interpolation=\"nearest\")\n",
    "    plt.axis('off')\n",
    "    plt.title(class_names[y_test[index]], fontsize=12)\n",
    "plt.subplots_adjust(wspace=0.2, hspace=0.5)\n",
    "plt.show()"
   ]
  },
  {
   "cell_type": "markdown",
   "metadata": {},
   "source": [
    "# Plot Learning curves when using different optimizers"
   ]
  },
  {
   "cell_type": "raw",
   "metadata": {},
   "source": [
    "Training a very large deep neural network can be painfully slow. So  we have find\n",
    "ways to speed up training : \n",
    "Momentum optimization, AdaGrad, RMSProp, and finally Adam\n",
    "optimization.\n",
    "\n",
    "Recall that Gradient Descent simply updates the weights θ by directly subtracting the\n",
    "gradient of the cost function J(θ) with regards to the weights (∇θ\n",
    "J(θ)) multiplied by the learning rate η\n",
    "\n",
    "problem:  If the local gradient is tiny , it goes very slowly \n",
    "\n"
   ]
  },
  {
   "cell_type": "markdown",
   "metadata": {},
   "source": [
    "Momentum optimizer"
   ]
  },
  {
   "cell_type": "code",
   "execution_count": null,
   "metadata": {},
   "outputs": [],
   "source": [
    "Momentum optimiza‐tion:   cares a great deal about what previous gradients were: at\n",
    "each iteration, it adds the local gradient to the momentum vector m (multiplied by the\n",
    "learning rate η)"
   ]
  },
  {
   "cell_type": "code",
   "execution_count": 51,
   "metadata": {},
   "outputs": [],
   "source": [
    "# we use in this case momentum = 0.9 ( in te previous example we have momentum = 0)\n",
    "# lr= learning rate \n",
    "# deacy : Learning rate decay over each update\n",
    "# nesterov: boolean. Whether to apply Nesterov momentum \n",
    "\n",
    "\n",
    "sgd = keras.optimizers.SGD(lr=0.01, decay=1e-6, momentum=0.9, nesterov=False)\n",
    "model.compile(loss=\"sparse_categorical_crossentropy\", optimizer=sgd,metrics=[\"accuracy\"])"
   ]
  },
  {
   "cell_type": "code",
   "execution_count": 52,
   "metadata": {},
   "outputs": [
    {
     "name": "stdout",
     "output_type": "stream",
     "text": [
      "Epoch 1/30\n",
      "18334/18334 [==============================] - 76s 4ms/step - loss: 0.7302 - accuracy: 0.7355 - val_loss: 0.5748 - val_accuracy: 0.8062\n",
      "Epoch 2/30\n",
      "18334/18334 [==============================] - 68s 4ms/step - loss: 0.6082 - accuracy: 0.7893 - val_loss: 0.5880 - val_accuracy: 0.7918\n",
      "Epoch 3/30\n",
      "18334/18334 [==============================] - 72s 4ms/step - loss: 0.5768 - accuracy: 0.8022 - val_loss: 0.5511 - val_accuracy: 0.8118\n",
      "Epoch 4/30\n",
      "18334/18334 [==============================] - 72s 4ms/step - loss: 0.5621 - accuracy: 0.8108 - val_loss: 0.5930 - val_accuracy: 0.8344\n",
      "Epoch 5/30\n",
      "18334/18334 [==============================] - 79s 4ms/step - loss: 0.5523 - accuracy: 0.8191 - val_loss: 0.6069 - val_accuracy: 0.7900\n",
      "Epoch 6/30\n",
      "18334/18334 [==============================] - 77s 4ms/step - loss: 0.5365 - accuracy: 0.8209 - val_loss: 0.5184 - val_accuracy: 0.8272\n",
      "Epoch 7/30\n",
      "18334/18334 [==============================] - 73s 4ms/step - loss: 0.5491 - accuracy: 0.8195 - val_loss: 0.5724 - val_accuracy: 0.8262\n",
      "Epoch 8/30\n",
      "18334/18334 [==============================] - 73s 4ms/step - loss: 0.5440 - accuracy: 0.8226 - val_loss: 0.5131 - val_accuracy: 0.8438\n",
      "Epoch 9/30\n",
      "18334/18334 [==============================] - 75s 4ms/step - loss: 0.5315 - accuracy: 0.8272 - val_loss: 0.5228 - val_accuracy: 0.8474\n",
      "Epoch 10/30\n",
      "18334/18334 [==============================] - 72s 4ms/step - loss: 0.4892 - accuracy: 0.8388 - val_loss: 0.5531 - val_accuracy: 0.8194\n",
      "Epoch 11/30\n",
      "18334/18334 [==============================] - 71s 4ms/step - loss: 0.5037 - accuracy: 0.8369 - val_loss: 0.5079 - val_accuracy: 0.8348\n",
      "Epoch 12/30\n",
      "18334/18334 [==============================] - 70s 4ms/step - loss: 0.5142 - accuracy: 0.8320 - val_loss: 0.4922 - val_accuracy: 0.8506\n",
      "Epoch 13/30\n",
      "18334/18334 [==============================] - 69s 4ms/step - loss: 0.4773 - accuracy: 0.8440 - val_loss: 0.5112 - val_accuracy: 0.8510\n",
      "Epoch 14/30\n",
      "18334/18334 [==============================] - 70s 4ms/step - loss: 0.4804 - accuracy: 0.8404 - val_loss: 0.5185 - val_accuracy: 0.8394\n",
      "Epoch 15/30\n",
      "18334/18334 [==============================] - 66s 4ms/step - loss: 0.4628 - accuracy: 0.8462 - val_loss: 0.4919 - val_accuracy: 0.8614\n",
      "Epoch 16/30\n",
      "18334/18334 [==============================] - 70s 4ms/step - loss: 0.4550 - accuracy: 0.8490 - val_loss: 0.5002 - val_accuracy: 0.8388\n",
      "Epoch 17/30\n",
      "18334/18334 [==============================] - 76s 4ms/step - loss: 0.4630 - accuracy: 0.8469 - val_loss: 0.5542 - val_accuracy: 0.8468\n",
      "Epoch 18/30\n",
      "18334/18334 [==============================] - 73s 4ms/step - loss: 0.4524 - accuracy: 0.8497 - val_loss: 0.4840 - val_accuracy: 0.8430\n",
      "Epoch 19/30\n",
      "18334/18334 [==============================] - 73s 4ms/step - loss: 0.4390 - accuracy: 0.8555 - val_loss: 0.5384 - val_accuracy: 0.8596\n",
      "Epoch 20/30\n",
      "18334/18334 [==============================] - 74s 4ms/step - loss: 0.4196 - accuracy: 0.8595 - val_loss: 0.5129 - val_accuracy: 0.8570\n",
      "Epoch 21/30\n",
      "18334/18334 [==============================] - 74s 4ms/step - loss: 0.4084 - accuracy: 0.8611 - val_loss: 0.5157 - val_accuracy: 0.8582\n",
      "Epoch 22/30\n",
      "18334/18334 [==============================] - 72s 4ms/step - loss: 0.4096 - accuracy: 0.8603 - val_loss: 0.4739 - val_accuracy: 0.8588\n",
      "Epoch 23/30\n",
      "18334/18334 [==============================] - 71s 4ms/step - loss: 0.3994 - accuracy: 0.8667 - val_loss: 0.4606 - val_accuracy: 0.8546\n",
      "Epoch 24/30\n",
      "18334/18334 [==============================] - 69s 4ms/step - loss: 0.3954 - accuracy: 0.8668 - val_loss: 0.5116 - val_accuracy: 0.8540\n",
      "Epoch 25/30\n",
      "18334/18334 [==============================] - 70s 4ms/step - loss: 0.3995 - accuracy: 0.8648 - val_loss: 0.4794 - val_accuracy: 0.8560\n",
      "Epoch 26/30\n",
      "18334/18334 [==============================] - 77s 4ms/step - loss: 0.3865 - accuracy: 0.8672 - val_loss: 0.5168 - val_accuracy: 0.8542\n",
      "Epoch 27/30\n",
      "18334/18334 [==============================] - 79s 4ms/step - loss: 0.3903 - accuracy: 0.8673 - val_loss: 0.5116 - val_accuracy: 0.8534\n",
      "Epoch 28/30\n",
      "18334/18334 [==============================] - 75s 4ms/step - loss: 0.3757 - accuracy: 0.8742 - val_loss: 0.4917 - val_accuracy: 0.8630\n",
      "Epoch 29/30\n",
      "18334/18334 [==============================] - 76s 4ms/step - loss: 0.3750 - accuracy: 0.8750 - val_loss: 0.5687 - val_accuracy: 0.8190\n",
      "Epoch 30/30\n",
      "18334/18334 [==============================] - 72s 4ms/step - loss: 0.3638 - accuracy: 0.8785 - val_loss: 0.5090 - val_accuracy: 0.8668\n"
     ]
    }
   ],
   "source": [
    "history = model.fit(X_train, y_train, batch_size=3, epochs=30,\n",
    "                    validation_data=(X_valid, y_valid))"
   ]
  },
  {
   "cell_type": "code",
   "execution_count": 58,
   "metadata": {},
   "outputs": [
    {
     "data": {
      "image/png": "[encoded data removed]",
      "text/plain": [
       "<Figure size 576x360 with 1 Axes>"
      ]
     },
     "metadata": {
      "needs_background": "light"
     },
     "output_type": "display_data"
    }
   ],
   "source": [
    "import pandas as pd\n",
    "\n",
    "pd.DataFrame(history.history).plot(figsize=(8, 5))\n",
    "plt.grid(True)\n",
    "plt.gca().set_ylim(0, 1)\n",
    "\n",
    "plt.title(\"Learning curve momentum optimizer\", fontsize=12)\n",
    "plt.show()"
   ]
  },
  {
   "cell_type": "raw",
   "metadata": {},
   "source": [
    "we can see   that regular gradient descent optimizer work well than momentum optimizer "
   ]
  },
  {
   "cell_type": "markdown",
   "metadata": {},
   "source": [
    "Adam optimizer"
   ]
  },
  {
   "cell_type": "code",
   "execution_count": null,
   "metadata": {},
   "outputs": [],
   "source": []
  },
  {
   "cell_type": "code",
   "execution_count": 59,
   "metadata": {},
   "outputs": [],
   "source": [
    "Adam = keras.optimizers.Adam(lr=0.001, beta_1=0.9, beta_2=0.999, epsilon=1e-08, decay=0.0)\n",
    "model.compile(loss=\"sparse_categorical_crossentropy\", optimizer=Adam,metrics=[\"accuracy\"])"
   ]
  },
  {
   "cell_type": "code",
   "execution_count": 60,
   "metadata": {},
   "outputs": [
    {
     "name": "stdout",
     "output_type": "stream",
     "text": [
      "Epoch 1/30\n",
      "18334/18334 [==============================] - 82s 4ms/step - loss: 0.3271 - accuracy: 0.8895 - val_loss: 0.4429 - val_accuracy: 0.8758\n",
      "Epoch 2/30\n",
      "18334/18334 [==============================] - 89s 5ms/step - loss: 0.3034 - accuracy: 0.8942 - val_loss: 0.4242 - val_accuracy: 0.8792\n",
      "Epoch 3/30\n",
      "18334/18334 [==============================] - 78s 4ms/step - loss: 0.2981 - accuracy: 0.8930 - val_loss: 0.4063 - val_accuracy: 0.8784\n",
      "Epoch 4/30\n",
      "18334/18334 [==============================] - 81s 4ms/step - loss: 0.2908 - accuracy: 0.8971 - val_loss: 0.3956 - val_accuracy: 0.8858\n",
      "Epoch 5/30\n",
      "18334/18334 [==============================] - 82s 4ms/step - loss: 0.2874 - accuracy: 0.8972 - val_loss: 0.4053 - val_accuracy: 0.8850\n",
      "Epoch 6/30\n",
      "18334/18334 [==============================] - 82s 4ms/step - loss: 0.2851 - accuracy: 0.8986 - val_loss: 0.4429 - val_accuracy: 0.8786\n",
      "Epoch 7/30\n",
      "18334/18334 [==============================] - 81s 4ms/step - loss: 0.2843 - accuracy: 0.9006 - val_loss: 0.4272 - val_accuracy: 0.8786\n",
      "Epoch 8/30\n",
      "18334/18334 [==============================] - 82s 4ms/step - loss: 0.2796 - accuracy: 0.9005 - val_loss: 0.3969 - val_accuracy: 0.8832\n",
      "Epoch 9/30\n",
      "18334/18334 [==============================] - 82s 4ms/step - loss: 0.2751 - accuracy: 0.9018 - val_loss: 0.4304 - val_accuracy: 0.8804\n",
      "Epoch 10/30\n",
      "18334/18334 [==============================] - 82s 4ms/step - loss: 0.2727 - accuracy: 0.9018 - val_loss: 0.4365 - val_accuracy: 0.8800\n",
      "Epoch 11/30\n",
      "18334/18334 [==============================] - 84s 5ms/step - loss: 0.2714 - accuracy: 0.9048 - val_loss: 0.4861 - val_accuracy: 0.8834\n",
      "Epoch 12/30\n",
      "18334/18334 [==============================] - 83s 5ms/step - loss: 0.2681 - accuracy: 0.9041 - val_loss: 0.5287 - val_accuracy: 0.8734\n",
      "Epoch 13/30\n",
      "18334/18334 [==============================] - 82s 4ms/step - loss: 0.2726 - accuracy: 0.9048 - val_loss: 0.4720 - val_accuracy: 0.8850\n",
      "Epoch 14/30\n",
      "18334/18334 [==============================] - 81s 4ms/step - loss: 0.2690 - accuracy: 0.9063 - val_loss: 0.4371 - val_accuracy: 0.8872\n",
      "Epoch 15/30\n",
      "18334/18334 [==============================] - 84s 5ms/step - loss: 0.2645 - accuracy: 0.9073 - val_loss: 0.4765 - val_accuracy: 0.8850\n",
      "Epoch 16/30\n",
      "18334/18334 [==============================] - 83s 5ms/step - loss: 0.2632 - accuracy: 0.9069 - val_loss: 0.4916 - val_accuracy: 0.8826\n",
      "Epoch 17/30\n",
      "18334/18334 [==============================] - 83s 5ms/step - loss: 0.2613 - accuracy: 0.9075 - val_loss: 0.6098 - val_accuracy: 0.8808\n",
      "Epoch 18/30\n",
      "18334/18334 [==============================] - 83s 5ms/step - loss: 0.2612 - accuracy: 0.9068 - val_loss: 0.5375 - val_accuracy: 0.8798\n",
      "Epoch 19/30\n",
      "18334/18334 [==============================] - 82s 4ms/step - loss: 0.2614 - accuracy: 0.9081 - val_loss: 0.6571 - val_accuracy: 0.8850\n",
      "Epoch 20/30\n",
      "18334/18334 [==============================] - 79s 4ms/step - loss: 0.2570 - accuracy: 0.9088 - val_loss: 0.6560 - val_accuracy: 0.8820\n",
      "Epoch 21/30\n",
      "18334/18334 [==============================] - 78s 4ms/step - loss: 0.2576 - accuracy: 0.9090 - val_loss: 0.5860 - val_accuracy: 0.8750\n",
      "Epoch 22/30\n",
      "18334/18334 [==============================] - 79s 4ms/step - loss: 0.2596 - accuracy: 0.9093 - val_loss: 0.6006 - val_accuracy: 0.8774\n",
      "Epoch 23/30\n",
      "18334/18334 [==============================] - 77s 4ms/step - loss: 0.2541 - accuracy: 0.9105 - val_loss: 0.5040 - val_accuracy: 0.8836\n",
      "Epoch 24/30\n",
      "18334/18334 [==============================] - 75s 4ms/step - loss: 0.2569 - accuracy: 0.9105 - val_loss: 0.5741 - val_accuracy: 0.8802\n",
      "Epoch 25/30\n",
      "18334/18334 [==============================] - 76s 4ms/step - loss: 0.2484 - accuracy: 0.9113 - val_loss: 0.6152 - val_accuracy: 0.8774\n",
      "Epoch 26/30\n",
      "18334/18334 [==============================] - 74s 4ms/step - loss: 0.2456 - accuracy: 0.9128 - val_loss: 0.7003 - val_accuracy: 0.8698\n",
      "Epoch 27/30\n",
      "18334/18334 [==============================] - 74s 4ms/step - loss: 0.2502 - accuracy: 0.9134 - val_loss: 0.6217 - val_accuracy: 0.8842\n",
      "Epoch 28/30\n",
      "18334/18334 [==============================] - 76s 4ms/step - loss: 0.2476 - accuracy: 0.9129 - val_loss: 0.6908 - val_accuracy: 0.8786\n",
      "Epoch 29/30\n",
      "18334/18334 [==============================] - 78s 4ms/step - loss: 0.2478 - accuracy: 0.9126 - val_loss: 0.6167 - val_accuracy: 0.8732\n",
      "Epoch 30/30\n",
      "18334/18334 [==============================] - 77s 4ms/step - loss: 0.2497 - accuracy: 0.9150 - val_loss: 0.7025 - val_accuracy: 0.8830\n"
     ]
    }
   ],
   "source": [
    "history3 = model.fit(X_train, y_train, batch_size=3, epochs=30,\n",
    "                    validation_data=(X_valid, y_valid))"
   ]
  },
  {
   "cell_type": "code",
   "execution_count": 76,
   "metadata": {},
   "outputs": [
    {
     "data": {
      "image/png": "[encoded data removed]",
      "text/plain": [
       "<Figure size 576x360 with 1 Axes>"
      ]
     },
     "metadata": {
      "needs_background": "light"
     },
     "output_type": "display_data"
    }
   ],
   "source": [
    "import pandas as pd\n",
    "\n",
    "pd.DataFrame(history3.history).plot(figsize=(8, 5))\n",
    "plt.grid(True)\n",
    "plt.gca().set_ylim(0, 1)\n",
    "\n",
    "plt.title(\"Learning curve Adam optimizer\", fontsize=12)\n",
    "plt.show()"
   ]
  },
  {
   "cell_type": "raw",
   "metadata": {},
   "source": [
    "Adam optimizer optimizer our NN can achieve     Accuracy = 0.915    and validation  Accuracy= 0.883\n",
    "which is good for us but it take a long time to train in each step than with the previous optimizer and it is normal due to tuning more parameters\n",
    "As we can see validation loss takes higher values step after step which is not good for our model\n",
    "So we can search others best techniques to reduce Overfitting"
   ]
  },
  {
   "cell_type": "markdown",
   "metadata": {},
   "source": [
    "# Different batch size and different number of epochs"
   ]
  },
  {
   "cell_type": "raw",
   "metadata": {},
   "source": [
    "As we can see in the figure above the loss validation become growing just after (epoch= 7)\n",
    "we can chose in our model epoch=7 and batch size=1 (train each instance individually) using Adam optimizer ,then see what can happen"
   ]
  }
 ],
 "metadata": {
  "kernelspec": {
   "display_name": "Python 3",
   "language": "python",
   "name": "python3"
  },
  "language_info": {
   "codemirror_mode": {
    "name": "ipython",
    "version": 3
   },
   "file_extension": ".py",
   "mimetype": "text/x-python",
   "name": "python",
   "nbconvert_exporter": "python",
   "pygments_lexer": "ipython3",
   "version": "3.7.3"
  }
 },
 "nbformat": 4,
 "nbformat_minor": 2
}
